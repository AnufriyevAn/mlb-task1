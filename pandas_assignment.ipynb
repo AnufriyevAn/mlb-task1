{
  "cells": [
    {
      "cell_type": "markdown",
      "id": "d7a4d6ac",
      "metadata": {
        "id": "d7a4d6ac"
      },
      "source": [
        "# Основы машинного обучения: лабораторная работа №1\n",
        "## Задание 3. Знакомство с Pandas\n",
        "\n",
        "В этом задании необходимо научиться базовым приемам работы с данными. Необходимо загрузить заданный по варианту датасет, провести разведочный анализ данных, сформулировать гипотезы о возможном значении всех полей в датасете, проверить эти гипотезы, и ответить на вопросы по данным. <!-- Если в конкретном задании не указано иное, проводить очистку данных (удаление пустых и невалидных значений) не нужно. -->\n",
        "\n",
        "### Цель\n",
        "\n",
        "Знакомство с разведочным анализом данных и применение Pandas для извлечения информации\n",
        "\n",
        "### Оценивание и баллы\n",
        "\n",
        "За это задание в общей сложности можно получить до 4 баллов. Задание частично проверяется автоматически, а частично будет оцениваться вручную. Чтобы получить максимальный балл,  необходимо успешно выполнить приведенные ниже задачи.\n",
        "\n",
        "## Важные замечания\n",
        "\n",
        "1. *Откройте этот файл в своем репозитории на GitHub и скопируйте адрес из адресной строки браузера. Перейдите в [Google Colab](https://colab.research.google.com/), выберите `Файл -> Открыть ноутбук -> GitHub`, вставьте скопированный URL и нажмите кнопку поиска (кнопка с лупой справа от поля ввода строки для поиска). В Google Colab откроется копия этого ноутбука из персонального репозитория на GitHub.*\n",
        "2. *Не удаляйте и не изменяйте имена переменных в ячейках с кодом ниже. Можно добавлять в каждую ячейку произвольное количество строк кода, главное - сохранить результат решения задачи в предопределенную (-ые) переменную (-ые) в соответствующей ячейке. Если этого не сделать, автоматические тесты не будут пройдены.*\n",
        "3. *Чтобы сохранить работу, выберите `Файл -> Сохранить копию на GitHub` и __вручную выберите правильный репозиторий из раскрывающегося списка__.*\n",
        "4. *Если в процессе выполнения задания этот файл окажется испорчен, ознакомьтесь с инструкцией в ноутбуке [jupyter_assignment](jupyter_assignment.ipynb), раздел \"Повторная сдача\".*  \n"
      ]
    },
    {
      "cell_type": "markdown",
      "id": "caf9d03d",
      "metadata": {
        "id": "caf9d03d"
      },
      "source": [
        "#### Задачи\n",
        "\n",
        "#### 1. Определить номер варианта\n",
        "Перейдите по ссылке из личного кабинета на Google Таблицу со списком студентов. Найдите свое ФИО в списке и запомните соответствующий порядковый номер (поле № п/п) в первом столбце. Заполните его в ячейке ниже и выполните ячейку. Если вы не можете найти себя в списке, обратитесь к своему преподавателю."
      ]
    },
    {
      "cell_type": "code",
      "execution_count": 1,
      "id": "1e5cdd43",
      "metadata": {
        "id": "1e5cdd43"
      },
      "outputs": [],
      "source": [
        "### BEGIN YOUR CODE\n",
        "\n",
        "Student_ID = 1\n",
        "\n",
        "### END YOUR CODE"
      ]
    },
    {
      "cell_type": "markdown",
      "id": "62528c2d",
      "metadata": {
        "id": "62528c2d"
      },
      "source": [
        "Теперь выполните следующую ячейку. Она вычислит номер задания и выведет его."
      ]
    },
    {
      "cell_type": "code",
      "execution_count": 2,
      "id": "d6776709",
      "metadata": {
        "id": "d6776709",
        "outputId": "ba4abb34-c71b-42b2-9478-03ee3d273396",
        "colab": {
          "base_uri": "https://localhost:8080/"
        }
      },
      "outputs": [
        {
          "output_type": "stream",
          "name": "stdout",
          "text": [
            "Датасет 'US Air Carrier market in 2019' доступен по следующей ссылке: https://raw.githubusercontent.com/markpolyak/datasets/refs/heads/main/data/aircarrier_market_us_2019.zip\n",
            "В заданиях ниже, где нужно выбрать вопрос, всегда выбирайте вопрос № 2\n"
          ]
        }
      ],
      "source": [
        "datasets = [('Chipotle','https://raw.githubusercontent.com/justmarkham/DAT8/master/data/chipotle.tsv'), ('US Air Carrier market in 2019','https://raw.githubusercontent.com/markpolyak/datasets/refs/heads/main/data/aircarrier_market_us_2019.zip'), ('Open Food Facts', 'https://raw.githubusercontent.com/markpolyak/datasets/refs/heads/main/data/en.openfoodfacts.org.products.tsv.tar.bz2')]\n",
        "\n",
        "dataset_id = None if Student_ID is None else Student_ID % len(datasets)\n",
        "if dataset_id is None:\n",
        "    print(\"ОШИБКА! Не указан порядковый номер студента в списке группы.\")\n",
        "else:\n",
        "    print(f\"Датасет '{datasets[dataset_id][0]}' доступен по следующей ссылке: {datasets[dataset_id][1]}\")\n",
        "    print(f\"В заданиях ниже, где нужно выбрать вопрос, всегда выбирайте вопрос № {dataset_id+1}\")"
      ]
    },
    {
      "cell_type": "markdown",
      "id": "d4790a3a",
      "metadata": {
        "id": "d4790a3a"
      },
      "source": [
        "Скачайте датасет с помощью команды `!wget <dataset_url>`, где `<dataset_url>` необходимо заменить на ссылку на датасет, появившуюся после выполнения предыдущей ячейки. При необходимости разархивируйте датасет, используя команды `!unzip`, `!tar` и др.\n",
        "\n",
        "*Примечание: в Jupyter-ноутбуке можно использовать любые команды командного интерпретатора bash. Для этого необходимо поставить в ячейке с кодом восклицательный знак `!`, после которого записать команду bash со всеми необходимыми аргументами. Результат выполнения этой команды bash будет возвращен в Jupyter и его можно использовать в коде на Python.*"
      ]
    },
    {
      "cell_type": "code",
      "execution_count": 3,
      "id": "a2d0062c",
      "metadata": {
        "id": "a2d0062c",
        "outputId": "271c6a15-4c11-4b57-f756-7d02a12f7ee2",
        "colab": {
          "base_uri": "https://localhost:8080/"
        }
      },
      "outputs": [
        {
          "output_type": "stream",
          "name": "stdout",
          "text": [
            "--2025-08-31 22:08:05--  https://raw.githubusercontent.com/markpolyak/datasets/refs/heads/main/data/aircarrier_market_us_2019.zip\n",
            "Resolving raw.githubusercontent.com (raw.githubusercontent.com)... 185.199.108.133, 185.199.109.133, 185.199.110.133, ...\n",
            "Connecting to raw.githubusercontent.com (raw.githubusercontent.com)|185.199.108.133|:443... connected.\n",
            "HTTP request sent, awaiting response... 200 OK\n",
            "Length: 10159563 (9.7M) [application/zip]\n",
            "Saving to: ‘aircarrier_market_us_2019.zip’\n",
            "\n",
            "aircarrier_market_u 100%[===================>]   9.69M  --.-KB/s    in 0.1s    \n",
            "\n",
            "2025-08-31 22:08:05 (99.7 MB/s) - ‘aircarrier_market_us_2019.zip’ saved [10159563/10159563]\n",
            "\n",
            "Archive:  aircarrier_market_us_2019.zip\n",
            "  inflating: aircarrier_market_us_2019.csv  \n"
          ]
        }
      ],
      "source": [
        "### BEGIN YOUR CODE\n",
        "\n",
        "!wget https://raw.githubusercontent.com/markpolyak/datasets/refs/heads/main/data/aircarrier_market_us_2019.zip\n",
        "!unzip aircarrier_market_us_2019.zip\n",
        "\n",
        "\n",
        "### END YOUR CODE"
      ]
    },
    {
      "cell_type": "markdown",
      "id": "7a03771c",
      "metadata": {
        "id": "7a03771c"
      },
      "source": [
        "##### 2. Загрузите датасет в pandas.DataFrame, сохраните его в переменной `df`. Cконвертируйте названия столбцов в нижний регистр"
      ]
    },
    {
      "cell_type": "code",
      "execution_count": 4,
      "id": "8940fc17",
      "metadata": {
        "id": "8940fc17",
        "outputId": "148c0afa-05b5-47dc-a255-f4763a60e021",
        "colab": {
          "base_uri": "https://localhost:8080/",
          "height": 236
        }
      },
      "outputs": [
        {
          "output_type": "execute_result",
          "data": {
            "text/plain": [
              "   passengers    freight  mail  distance unique_carrier  airline_id  \\\n",
              "0         0.0    53185.0   0.0    8165.0             EK       20392   \n",
              "1         0.0     9002.0   0.0    6849.0             EK       20392   \n",
              "2         0.0  2220750.0   0.0    7247.0             EK       20392   \n",
              "3         0.0  1201490.0   0.0    8165.0             EK       20392   \n",
              "4         0.0   248642.0   0.0    6849.0             EK       20392   \n",
              "\n",
              "  unique_carrier_name unique_carrier_entity region carrier  ... dest_state_nm  \\\n",
              "0            Emirates                 9678A      I      EK  ...         Texas   \n",
              "1            Emirates                 9678A      I      EK  ...      New York   \n",
              "2            Emirates                 9678A      I      EK  ...      Illinois   \n",
              "3            Emirates                 9678A      I      EK  ...           NaN   \n",
              "4            Emirates                 9678A      I      EK  ...           NaN   \n",
              "\n",
              "   dest_country     dest_country_name  dest_wac  year  quarter month  \\\n",
              "0            US         United States        74  2019        1     3   \n",
              "1            US         United States        22  2019        1     3   \n",
              "2            US         United States        41  2019        1     3   \n",
              "3            AE  United Arab Emirates       678  2019        1     3   \n",
              "4            AE  United Arab Emirates       678  2019        1     3   \n",
              "\n",
              "  distance_group class  data_source  \n",
              "0             17     G           IF  \n",
              "1             14     G           IF  \n",
              "2             15     G           IF  \n",
              "3             17     G           IF  \n",
              "4             14     G           IF  \n",
              "\n",
              "[5 rows x 41 columns]"
            ],
            "text/html": [
              "\n",
              "  <div id=\"df-72bbf855-c402-4b79-b296-1c289a301c94\" class=\"colab-df-container\">\n",
              "    <div>\n",
              "<style scoped>\n",
              "    .dataframe tbody tr th:only-of-type {\n",
              "        vertical-align: middle;\n",
              "    }\n",
              "\n",
              "    .dataframe tbody tr th {\n",
              "        vertical-align: top;\n",
              "    }\n",
              "\n",
              "    .dataframe thead th {\n",
              "        text-align: right;\n",
              "    }\n",
              "</style>\n",
              "<table border=\"1\" class=\"dataframe\">\n",
              "  <thead>\n",
              "    <tr style=\"text-align: right;\">\n",
              "      <th></th>\n",
              "      <th>passengers</th>\n",
              "      <th>freight</th>\n",
              "      <th>mail</th>\n",
              "      <th>distance</th>\n",
              "      <th>unique_carrier</th>\n",
              "      <th>airline_id</th>\n",
              "      <th>unique_carrier_name</th>\n",
              "      <th>unique_carrier_entity</th>\n",
              "      <th>region</th>\n",
              "      <th>carrier</th>\n",
              "      <th>...</th>\n",
              "      <th>dest_state_nm</th>\n",
              "      <th>dest_country</th>\n",
              "      <th>dest_country_name</th>\n",
              "      <th>dest_wac</th>\n",
              "      <th>year</th>\n",
              "      <th>quarter</th>\n",
              "      <th>month</th>\n",
              "      <th>distance_group</th>\n",
              "      <th>class</th>\n",
              "      <th>data_source</th>\n",
              "    </tr>\n",
              "  </thead>\n",
              "  <tbody>\n",
              "    <tr>\n",
              "      <th>0</th>\n",
              "      <td>0.0</td>\n",
              "      <td>53185.0</td>\n",
              "      <td>0.0</td>\n",
              "      <td>8165.0</td>\n",
              "      <td>EK</td>\n",
              "      <td>20392</td>\n",
              "      <td>Emirates</td>\n",
              "      <td>9678A</td>\n",
              "      <td>I</td>\n",
              "      <td>EK</td>\n",
              "      <td>...</td>\n",
              "      <td>Texas</td>\n",
              "      <td>US</td>\n",
              "      <td>United States</td>\n",
              "      <td>74</td>\n",
              "      <td>2019</td>\n",
              "      <td>1</td>\n",
              "      <td>3</td>\n",
              "      <td>17</td>\n",
              "      <td>G</td>\n",
              "      <td>IF</td>\n",
              "    </tr>\n",
              "    <tr>\n",
              "      <th>1</th>\n",
              "      <td>0.0</td>\n",
              "      <td>9002.0</td>\n",
              "      <td>0.0</td>\n",
              "      <td>6849.0</td>\n",
              "      <td>EK</td>\n",
              "      <td>20392</td>\n",
              "      <td>Emirates</td>\n",
              "      <td>9678A</td>\n",
              "      <td>I</td>\n",
              "      <td>EK</td>\n",
              "      <td>...</td>\n",
              "      <td>New York</td>\n",
              "      <td>US</td>\n",
              "      <td>United States</td>\n",
              "      <td>22</td>\n",
              "      <td>2019</td>\n",
              "      <td>1</td>\n",
              "      <td>3</td>\n",
              "      <td>14</td>\n",
              "      <td>G</td>\n",
              "      <td>IF</td>\n",
              "    </tr>\n",
              "    <tr>\n",
              "      <th>2</th>\n",
              "      <td>0.0</td>\n",
              "      <td>2220750.0</td>\n",
              "      <td>0.0</td>\n",
              "      <td>7247.0</td>\n",
              "      <td>EK</td>\n",
              "      <td>20392</td>\n",
              "      <td>Emirates</td>\n",
              "      <td>9678A</td>\n",
              "      <td>I</td>\n",
              "      <td>EK</td>\n",
              "      <td>...</td>\n",
              "      <td>Illinois</td>\n",
              "      <td>US</td>\n",
              "      <td>United States</td>\n",
              "      <td>41</td>\n",
              "      <td>2019</td>\n",
              "      <td>1</td>\n",
              "      <td>3</td>\n",
              "      <td>15</td>\n",
              "      <td>G</td>\n",
              "      <td>IF</td>\n",
              "    </tr>\n",
              "    <tr>\n",
              "      <th>3</th>\n",
              "      <td>0.0</td>\n",
              "      <td>1201490.0</td>\n",
              "      <td>0.0</td>\n",
              "      <td>8165.0</td>\n",
              "      <td>EK</td>\n",
              "      <td>20392</td>\n",
              "      <td>Emirates</td>\n",
              "      <td>9678A</td>\n",
              "      <td>I</td>\n",
              "      <td>EK</td>\n",
              "      <td>...</td>\n",
              "      <td>NaN</td>\n",
              "      <td>AE</td>\n",
              "      <td>United Arab Emirates</td>\n",
              "      <td>678</td>\n",
              "      <td>2019</td>\n",
              "      <td>1</td>\n",
              "      <td>3</td>\n",
              "      <td>17</td>\n",
              "      <td>G</td>\n",
              "      <td>IF</td>\n",
              "    </tr>\n",
              "    <tr>\n",
              "      <th>4</th>\n",
              "      <td>0.0</td>\n",
              "      <td>248642.0</td>\n",
              "      <td>0.0</td>\n",
              "      <td>6849.0</td>\n",
              "      <td>EK</td>\n",
              "      <td>20392</td>\n",
              "      <td>Emirates</td>\n",
              "      <td>9678A</td>\n",
              "      <td>I</td>\n",
              "      <td>EK</td>\n",
              "      <td>...</td>\n",
              "      <td>NaN</td>\n",
              "      <td>AE</td>\n",
              "      <td>United Arab Emirates</td>\n",
              "      <td>678</td>\n",
              "      <td>2019</td>\n",
              "      <td>1</td>\n",
              "      <td>3</td>\n",
              "      <td>14</td>\n",
              "      <td>G</td>\n",
              "      <td>IF</td>\n",
              "    </tr>\n",
              "  </tbody>\n",
              "</table>\n",
              "<p>5 rows × 41 columns</p>\n",
              "</div>\n",
              "    <div class=\"colab-df-buttons\">\n",
              "\n",
              "  <div class=\"colab-df-container\">\n",
              "    <button class=\"colab-df-convert\" onclick=\"convertToInteractive('df-72bbf855-c402-4b79-b296-1c289a301c94')\"\n",
              "            title=\"Convert this dataframe to an interactive table.\"\n",
              "            style=\"display:none;\">\n",
              "\n",
              "  <svg xmlns=\"http://www.w3.org/2000/svg\" height=\"24px\" viewBox=\"0 -960 960 960\">\n",
              "    <path d=\"M120-120v-720h720v720H120Zm60-500h600v-160H180v160Zm220 220h160v-160H400v160Zm0 220h160v-160H400v160ZM180-400h160v-160H180v160Zm440 0h160v-160H620v160ZM180-180h160v-160H180v160Zm440 0h160v-160H620v160Z\"/>\n",
              "  </svg>\n",
              "    </button>\n",
              "\n",
              "  <style>\n",
              "    .colab-df-container {\n",
              "      display:flex;\n",
              "      gap: 12px;\n",
              "    }\n",
              "\n",
              "    .colab-df-convert {\n",
              "      background-color: #E8F0FE;\n",
              "      border: none;\n",
              "      border-radius: 50%;\n",
              "      cursor: pointer;\n",
              "      display: none;\n",
              "      fill: #1967D2;\n",
              "      height: 32px;\n",
              "      padding: 0 0 0 0;\n",
              "      width: 32px;\n",
              "    }\n",
              "\n",
              "    .colab-df-convert:hover {\n",
              "      background-color: #E2EBFA;\n",
              "      box-shadow: 0px 1px 2px rgba(60, 64, 67, 0.3), 0px 1px 3px 1px rgba(60, 64, 67, 0.15);\n",
              "      fill: #174EA6;\n",
              "    }\n",
              "\n",
              "    .colab-df-buttons div {\n",
              "      margin-bottom: 4px;\n",
              "    }\n",
              "\n",
              "    [theme=dark] .colab-df-convert {\n",
              "      background-color: #3B4455;\n",
              "      fill: #D2E3FC;\n",
              "    }\n",
              "\n",
              "    [theme=dark] .colab-df-convert:hover {\n",
              "      background-color: #434B5C;\n",
              "      box-shadow: 0px 1px 3px 1px rgba(0, 0, 0, 0.15);\n",
              "      filter: drop-shadow(0px 1px 2px rgba(0, 0, 0, 0.3));\n",
              "      fill: #FFFFFF;\n",
              "    }\n",
              "  </style>\n",
              "\n",
              "    <script>\n",
              "      const buttonEl =\n",
              "        document.querySelector('#df-72bbf855-c402-4b79-b296-1c289a301c94 button.colab-df-convert');\n",
              "      buttonEl.style.display =\n",
              "        google.colab.kernel.accessAllowed ? 'block' : 'none';\n",
              "\n",
              "      async function convertToInteractive(key) {\n",
              "        const element = document.querySelector('#df-72bbf855-c402-4b79-b296-1c289a301c94');\n",
              "        const dataTable =\n",
              "          await google.colab.kernel.invokeFunction('convertToInteractive',\n",
              "                                                    [key], {});\n",
              "        if (!dataTable) return;\n",
              "\n",
              "        const docLinkHtml = 'Like what you see? Visit the ' +\n",
              "          '<a target=\"_blank\" href=https://colab.research.google.com/notebooks/data_table.ipynb>data table notebook</a>'\n",
              "          + ' to learn more about interactive tables.';\n",
              "        element.innerHTML = '';\n",
              "        dataTable['output_type'] = 'display_data';\n",
              "        await google.colab.output.renderOutput(dataTable, element);\n",
              "        const docLink = document.createElement('div');\n",
              "        docLink.innerHTML = docLinkHtml;\n",
              "        element.appendChild(docLink);\n",
              "      }\n",
              "    </script>\n",
              "  </div>\n",
              "\n",
              "\n",
              "    <div id=\"df-8ac974cd-90f5-43f7-910a-9b8838ecbd0a\">\n",
              "      <button class=\"colab-df-quickchart\" onclick=\"quickchart('df-8ac974cd-90f5-43f7-910a-9b8838ecbd0a')\"\n",
              "                title=\"Suggest charts\"\n",
              "                style=\"display:none;\">\n",
              "\n",
              "<svg xmlns=\"http://www.w3.org/2000/svg\" height=\"24px\"viewBox=\"0 0 24 24\"\n",
              "     width=\"24px\">\n",
              "    <g>\n",
              "        <path d=\"M19 3H5c-1.1 0-2 .9-2 2v14c0 1.1.9 2 2 2h14c1.1 0 2-.9 2-2V5c0-1.1-.9-2-2-2zM9 17H7v-7h2v7zm4 0h-2V7h2v10zm4 0h-2v-4h2v4z\"/>\n",
              "    </g>\n",
              "</svg>\n",
              "      </button>\n",
              "\n",
              "<style>\n",
              "  .colab-df-quickchart {\n",
              "      --bg-color: #E8F0FE;\n",
              "      --fill-color: #1967D2;\n",
              "      --hover-bg-color: #E2EBFA;\n",
              "      --hover-fill-color: #174EA6;\n",
              "      --disabled-fill-color: #AAA;\n",
              "      --disabled-bg-color: #DDD;\n",
              "  }\n",
              "\n",
              "  [theme=dark] .colab-df-quickchart {\n",
              "      --bg-color: #3B4455;\n",
              "      --fill-color: #D2E3FC;\n",
              "      --hover-bg-color: #434B5C;\n",
              "      --hover-fill-color: #FFFFFF;\n",
              "      --disabled-bg-color: #3B4455;\n",
              "      --disabled-fill-color: #666;\n",
              "  }\n",
              "\n",
              "  .colab-df-quickchart {\n",
              "    background-color: var(--bg-color);\n",
              "    border: none;\n",
              "    border-radius: 50%;\n",
              "    cursor: pointer;\n",
              "    display: none;\n",
              "    fill: var(--fill-color);\n",
              "    height: 32px;\n",
              "    padding: 0;\n",
              "    width: 32px;\n",
              "  }\n",
              "\n",
              "  .colab-df-quickchart:hover {\n",
              "    background-color: var(--hover-bg-color);\n",
              "    box-shadow: 0 1px 2px rgba(60, 64, 67, 0.3), 0 1px 3px 1px rgba(60, 64, 67, 0.15);\n",
              "    fill: var(--button-hover-fill-color);\n",
              "  }\n",
              "\n",
              "  .colab-df-quickchart-complete:disabled,\n",
              "  .colab-df-quickchart-complete:disabled:hover {\n",
              "    background-color: var(--disabled-bg-color);\n",
              "    fill: var(--disabled-fill-color);\n",
              "    box-shadow: none;\n",
              "  }\n",
              "\n",
              "  .colab-df-spinner {\n",
              "    border: 2px solid var(--fill-color);\n",
              "    border-color: transparent;\n",
              "    border-bottom-color: var(--fill-color);\n",
              "    animation:\n",
              "      spin 1s steps(1) infinite;\n",
              "  }\n",
              "\n",
              "  @keyframes spin {\n",
              "    0% {\n",
              "      border-color: transparent;\n",
              "      border-bottom-color: var(--fill-color);\n",
              "      border-left-color: var(--fill-color);\n",
              "    }\n",
              "    20% {\n",
              "      border-color: transparent;\n",
              "      border-left-color: var(--fill-color);\n",
              "      border-top-color: var(--fill-color);\n",
              "    }\n",
              "    30% {\n",
              "      border-color: transparent;\n",
              "      border-left-color: var(--fill-color);\n",
              "      border-top-color: var(--fill-color);\n",
              "      border-right-color: var(--fill-color);\n",
              "    }\n",
              "    40% {\n",
              "      border-color: transparent;\n",
              "      border-right-color: var(--fill-color);\n",
              "      border-top-color: var(--fill-color);\n",
              "    }\n",
              "    60% {\n",
              "      border-color: transparent;\n",
              "      border-right-color: var(--fill-color);\n",
              "    }\n",
              "    80% {\n",
              "      border-color: transparent;\n",
              "      border-right-color: var(--fill-color);\n",
              "      border-bottom-color: var(--fill-color);\n",
              "    }\n",
              "    90% {\n",
              "      border-color: transparent;\n",
              "      border-bottom-color: var(--fill-color);\n",
              "    }\n",
              "  }\n",
              "</style>\n",
              "\n",
              "      <script>\n",
              "        async function quickchart(key) {\n",
              "          const quickchartButtonEl =\n",
              "            document.querySelector('#' + key + ' button');\n",
              "          quickchartButtonEl.disabled = true;  // To prevent multiple clicks.\n",
              "          quickchartButtonEl.classList.add('colab-df-spinner');\n",
              "          try {\n",
              "            const charts = await google.colab.kernel.invokeFunction(\n",
              "                'suggestCharts', [key], {});\n",
              "          } catch (error) {\n",
              "            console.error('Error during call to suggestCharts:', error);\n",
              "          }\n",
              "          quickchartButtonEl.classList.remove('colab-df-spinner');\n",
              "          quickchartButtonEl.classList.add('colab-df-quickchart-complete');\n",
              "        }\n",
              "        (() => {\n",
              "          let quickchartButtonEl =\n",
              "            document.querySelector('#df-8ac974cd-90f5-43f7-910a-9b8838ecbd0a button');\n",
              "          quickchartButtonEl.style.display =\n",
              "            google.colab.kernel.accessAllowed ? 'block' : 'none';\n",
              "        })();\n",
              "      </script>\n",
              "    </div>\n",
              "    </div>\n",
              "  </div>\n"
            ],
            "application/vnd.google.colaboratory.intrinsic+json": {
              "type": "dataframe",
              "variable_name": "df"
            }
          },
          "metadata": {},
          "execution_count": 4
        }
      ],
      "source": [
        "import pandas as pd\n",
        "\n",
        "# Загружаем CSV в DataFrame\n",
        "df = pd.read_csv(\"aircarrier_market_us_2019.csv\")\n",
        "\n",
        "# Приводим имена столбцов к нижнему регистру\n",
        "df.columns = df.columns.str.lower()\n",
        "\n",
        "# Смотрим первые строки\n",
        "df.head()\n"
      ]
    },
    {
      "cell_type": "markdown",
      "id": "bf7dc696",
      "metadata": {
        "id": "bf7dc696"
      },
      "source": [
        "##### 3. Какие столбцы присутствуют в наборе данных? (0.1 балла)"
      ]
    },
    {
      "cell_type": "code",
      "execution_count": 5,
      "id": "190bb44f",
      "metadata": {
        "id": "190bb44f",
        "outputId": "8ee8ecbc-cc6a-44fe-d82e-69841d8fb41e",
        "colab": {
          "base_uri": "https://localhost:8080/"
        }
      },
      "outputs": [
        {
          "output_type": "stream",
          "name": "stdout",
          "text": [
            "Index(['passengers', 'freight', 'mail', 'distance', 'unique_carrier',\n",
            "       'airline_id', 'unique_carrier_name', 'unique_carrier_entity', 'region',\n",
            "       'carrier', 'carrier_name', 'carrier_group', 'carrier_group_new',\n",
            "       'origin_airport_id', 'origin_airport_seq_id', 'origin_city_market_id',\n",
            "       'origin', 'origin_city_name', 'origin_state_abr', 'origin_state_fips',\n",
            "       'origin_state_nm', 'origin_country', 'origin_country_name',\n",
            "       'origin_wac', 'dest_airport_id', 'dest_airport_seq_id',\n",
            "       'dest_city_market_id', 'dest', 'dest_city_name', 'dest_state_abr',\n",
            "       'dest_state_fips', 'dest_state_nm', 'dest_country', 'dest_country_name',\n",
            "       'dest_wac', 'year', 'quarter', 'month', 'distance_group', 'class',\n",
            "       'data_source'],\n",
            "      dtype='object')\n"
          ]
        }
      ],
      "source": [
        "columns = df.columns\n",
        "\n",
        "print(columns)"
      ]
    },
    {
      "cell_type": "markdown",
      "id": "e693a9b0",
      "metadata": {
        "id": "e693a9b0"
      },
      "source": [
        "##### 4. Ответьте на вопрос и сохраните ответ в переменной `answer1` (0.1 балла)\n",
        "\n",
        "Вопросы:\n",
        "1. Какое блюдо (`item_name`) заказывали чаще всего?\n",
        "2. Сколько авиаперевозчиков (`carrier`) представлены в датасете?\n",
        "3. По скольким продуктам в датасете имеется информация о содержании аллергенов (`allergens`)?"
      ]
    },
    {
      "cell_type": "code",
      "execution_count": 6,
      "id": "b1615597",
      "metadata": {
        "id": "b1615597",
        "outputId": "7a55a171-4e20-4467-83e0-8c756948e260",
        "colab": {
          "base_uri": "https://localhost:8080/"
        }
      },
      "outputs": [
        {
          "output_type": "stream",
          "name": "stdout",
          "text": [
            "319\n"
          ]
        }
      ],
      "source": [
        "answer1 = df['carrier'].nunique()\n",
        "print(answer1)"
      ]
    },
    {
      "cell_type": "markdown",
      "id": "e5e4a54b",
      "metadata": {
        "id": "e5e4a54b"
      },
      "source": [
        "##### 5. Ответьте на вопрос и сохраните ответ в переменной `answer2` (0.1 балла)\n",
        "\n",
        "Вопросы:\n",
        "1. Сколько всего было заказов блюда, название которого сохранено в `answer1`?\n",
        "2. Посчитайте общие суммарные количества перевезенных пассажиров (`passengers`), фунтов груза (`freight`) и почты (`mail`) на маршруте из Великобритании (GB) в США (US). В `answer2` запишите максимальное из трех получившихся чисел.\n",
        "3. Сколько всего продуктов, относящихся к категории \"молочные\" (`Dairies,Milks`), с заполненным названием?"
      ]
    },
    {
      "cell_type": "code",
      "execution_count": 8,
      "id": "5e576703",
      "metadata": {
        "id": "5e576703",
        "outputId": "0b810387-abbd-4dc2-aca2-6513bbb71940",
        "colab": {
          "base_uri": "https://localhost:8080/"
        }
      },
      "outputs": [
        {
          "output_type": "stream",
          "name": "stdout",
          "text": [
            "Всего записей по carrier: 321409\n",
            "\n",
            "Суммарные показатели GB → US:\n",
            "passengers     10685608.0\n",
            "freight       903296879.0\n",
            "mail           29838395.0\n",
            "dtype: float64\n",
            "\n",
            "Максимальное значение: 903296879.0\n"
          ]
        }
      ],
      "source": [
        "total_carriers = df['carrier'].count()\n",
        "\n",
        "totals = df[(df['origin_country'] == 'GB') & (df['dest_country'] == 'US')][['passengers', 'freight', 'mail']].sum()\n",
        "\n",
        "answer2 = totals.max()\n",
        "\n",
        "print(\"Всего записей по carrier:\", total_carriers)\n",
        "print(\"\\nСуммарные показатели GB → US:\")\n",
        "print(totals)\n",
        "print(\"\\nМаксимальное значение:\", answer2)\n",
        "\n"
      ]
    },
    {
      "cell_type": "markdown",
      "id": "f28dfff0",
      "metadata": {
        "id": "f28dfff0"
      },
      "source": [
        "##### 6. Ответьте на вопрос и сохраните ответ в переменной `answer3` (0.2 балла)\n",
        "\n",
        "Вопросы:\n",
        "1. Какой доход получила сеть Chipotle Mexican Grill на заказах, попавших в датасет?\n",
        "2. Какой авиаперевозчик (`unique_carrier_name`) перевез больше всего груза (`mail` + `freight`)?\n",
        "3. Как называется продукт категории `Fats` с максимальной жирностью, не превышающей 30 г на 100 г продукта?"
      ]
    },
    {
      "cell_type": "code",
      "execution_count": 11,
      "id": "0618e3db",
      "metadata": {
        "id": "0618e3db",
        "outputId": "5c363272-2959-409d-86f1-29722710e5b6",
        "colab": {
          "base_uri": "https://localhost:8080/"
        }
      },
      "outputs": [
        {
          "output_type": "stream",
          "name": "stdout",
          "text": [
            "{'chipotle_income': None, 'max_cargo_carrier': 'Federal Express Corporation', 'max_cargo_value': 12709663842.0, 'fats_product': None}\n",
            "{'chipotle_income': None, 'max_cargo_carrier': 'Federal Express Corporation', 'max_cargo_value': 12709663842.0, 'fats_product': None}\n"
          ]
        }
      ],
      "source": [
        "\n",
        "answer3 = {}\n",
        "\n",
        "chipotle_income = None\n",
        "if {'item_price', 'quantity'}.issubset(df.columns):\n",
        "    prices = df['item_price']\n",
        "    if prices.dtype == object:\n",
        "        prices = (prices.astype(str)\n",
        "                        .str.replace(r'\\$', '', regex=True)\n",
        "                        .str.replace(',', '.', regex=False)\n",
        "                        .str.extract(r'([-+]?\\d*\\.?\\d+)', expand=False)\n",
        "                        .astype(float))\n",
        "    qty = pd.to_numeric(df['quantity'], errors='coerce')\n",
        "    chipotle_income = float((prices * qty).sum())\n",
        "\n",
        "answer3['chipotle_income'] = chipotle_income\n",
        "\n",
        "max_cargo_carrier = None\n",
        "max_cargo_value   = None\n",
        "\n",
        "if {'unique_carrier_name', 'mail', 'freight'}.issubset(df.columns):\n",
        "    cargo = df[['unique_carrier_name', 'mail', 'freight']].copy()\n",
        "    cargo['mail']    = pd.to_numeric(cargo['mail'],    errors='coerce').fillna(0)\n",
        "    cargo['freight'] = pd.to_numeric(cargo['freight'], errors='coerce').fillna(0)\n",
        "\n",
        "    agg = cargo.groupby('unique_carrier_name')[['mail', 'freight']].sum()\n",
        "    agg['total_cargo'] = agg['mail'] + agg['freight']\n",
        "\n",
        "    max_cargo_carrier = agg['total_cargo'].idxmax()\n",
        "    max_cargo_value   = float(agg['total_cargo'].max())\n",
        "\n",
        "answer3['max_cargo_carrier'] = max_cargo_carrier\n",
        "answer3['max_cargo_value']   = max_cargo_value\n",
        "\n",
        "fats_product = None\n",
        "if {'fats', 'product_name'}.issubset(df.columns):\n",
        "    fats_s = (df['fats'].astype(str)\n",
        "                    .str.replace(',', '.', regex=False)\n",
        "                    .str.extract(r'([-+]?\\d*\\.?\\d+)', expand=False)\n",
        "                    .astype(float))\n",
        "    fats_df = pd.DataFrame({'fats': fats_s, 'product_name': df['product_name']})\n",
        "    fats_df = fats_df.dropna()\n",
        "    fats_df = fats_df[fats_df['fats'] <= 30]\n",
        "    if not fats_df.empty:\n",
        "        fats_product = fats_df.sort_values('fats', ascending=False).iloc[0]['product_name']\n",
        "\n",
        "answer3['fats_product'] = fats_product\n",
        "\n",
        "print(answer3)\n",
        "\n",
        "print(answer3)\n"
      ]
    },
    {
      "cell_type": "markdown",
      "id": "3924c56d",
      "metadata": {
        "id": "3924c56d"
      },
      "source": [
        "##### 7. Ответьте на вопрос и сохраните ответ в переменной `answer4` (0.25 балла)\n",
        "\n",
        "Вопросы:\n",
        "1. Каков средний доход с одного заказа?\n",
        "2. Какое максимальное количество пассажиров одна авиакомпания смогла перевезти из США в другие страны за все время?\n",
        "3. Какова энергетическая ценность в кДж продукта из России (`countries_en`) имеющего максимальное содержание холестерина?"
      ]
    },
    {
      "cell_type": "code",
      "execution_count": null,
      "id": "bea51b74",
      "metadata": {
        "id": "bea51b74"
      },
      "outputs": [],
      "source": [
        "answer4 = ... # Place your code here instead of '...'\n",
        "\n",
        "print(answer4)"
      ]
    },
    {
      "cell_type": "markdown",
      "id": "5d00d132",
      "metadata": {
        "id": "5d00d132"
      },
      "source": [
        "##### 8. Ответьте на вопрос и сохраните ответ в переменной `answer5` (0.25 балл)\n",
        "\n",
        "Вопросы:\n",
        "1. Сколько раз был заказан самый популярный напиток (Coke, Sprite, Mountain Dew и т.п.)?\n",
        "2. Между какими двумя городами было перевезено наибольшее количество пассажиров? Учтите оба направления. Ответ запишите в виде списка из двух строк.\n",
        "3. Приведите названия всех аллергенов к нижнему регистру. Какой аллерген встречается в продуктах чаще всего?"
      ]
    },
    {
      "cell_type": "code",
      "execution_count": null,
      "id": "773f3787",
      "metadata": {
        "id": "773f3787"
      },
      "outputs": [],
      "source": [
        "answer5 = ... # Place your code here instead of '...'\n",
        "\n",
        "print(answer5)"
      ]
    },
    {
      "cell_type": "markdown",
      "id": "fd33327f",
      "metadata": {
        "id": "fd33327f"
      },
      "source": [
        "##### 9. Ответьте на вопрос и сохраните ответ в переменной `answer6` (0.5 балл)\n",
        "\n",
        "Вопросы:\n",
        "1. Какой суммарный доход принесли напитки в заказах вегетарианцев?\n",
        "2. Для пары городов из предыдущего вопроса найдите 3 авиакомпании, которые перевезли больше всего пассажиров. Посчитайте, какой процент от общего пассажиропотока между этими городами перевезла каждая из трех авиакомпаний. В `answer6` запишите найденные проценты в виде списка из трех чисел, округлив их до двух знаков после запятой.\n",
        "3. Найдити самый опасный продукт, содержащий наибольшее количество аллергенов."
      ]
    },
    {
      "cell_type": "code",
      "execution_count": null,
      "id": "b5e8cc08",
      "metadata": {
        "id": "b5e8cc08"
      },
      "outputs": [],
      "source": [
        "answer6 = ... # Place your code here instead of '...'\n",
        "\n",
        "print(answer6)"
      ]
    },
    {
      "cell_type": "markdown",
      "id": "b0c39d4b",
      "metadata": {
        "id": "b0c39d4b"
      },
      "source": [
        "##### 10. Ответьте на вопрос и сохраните ответ в переменной `answer7` (0.5 балл)\n",
        "\n",
        "Вопросы:\n",
        "1. Сколько было сделано вегетарианских заказов? Заказ не считается вегетарианским, если в нем были не вегетарианские блюда.\n",
        "2. Для каждой страны найдите процент международного пассажиропотока (относительно США), используя общее количество пассажиров на рейсах класса F. В `answer7` запишите название страны с третьим по величине пассажиропотоком в/из США.\n",
        "3. Переведите названия групп продуктов (`pnns_groups_1`, `pnns_groups_2`) в нижний регистр. В переменную `answer7` запишите список, содержащий три элемента: название группы продуктов 1, название группы продуктов 2 и среднее количество пищевых волокон (fiber) для седьмой по насыщенности пищевыми волокнами группы продуктов."
      ]
    },
    {
      "cell_type": "code",
      "execution_count": null,
      "id": "2ad348d2",
      "metadata": {
        "id": "2ad348d2"
      },
      "outputs": [],
      "source": [
        "answer7 = ... # Place your code here instead of '...'\n",
        "\n",
        "print(answer7)"
      ]
    },
    {
      "cell_type": "markdown",
      "id": "d86bf7a9",
      "metadata": {
        "id": "d86bf7a9"
      },
      "source": [
        "##### 11. Ответьте на вопрос и сохраните ответ в переменной `answer8` (1 балл)\n",
        "\n",
        "Вопросы:\n",
        "1. Какой соус или дополнительный ингредиент по выбору (`choice_description`) чаще всего берут вместе с буррито с курицей (Chicken Burrito)?\n",
        "2. В каком месяце пассажиропоток между городами, записанными в переменную `answer5`, был максимальным?\n",
        "3. Какое название у группы продуктов `pnns_groups_2`, являющейся наиболее сбалансированной с точки зрения среднего содержания белков, жиров и углеводов? Под \"сбалансированной\" понимать близость БЖУ к пропорции 1:1:4."
      ]
    },
    {
      "cell_type": "code",
      "execution_count": null,
      "id": "6fb6af7c",
      "metadata": {
        "id": "6fb6af7c"
      },
      "outputs": [],
      "source": [
        "answer8 = ... # Place your code here instead of '...'\n",
        "\n",
        "print(answer8)"
      ]
    },
    {
      "cell_type": "markdown",
      "id": "1724764c",
      "metadata": {
        "id": "1724764c"
      },
      "source": [
        "##### 12. Визуализируйте данные в соответствии с заданием (1 балл)\n",
        "\n",
        "1. Постройте гистограмму распределения общей стоимости заказов. Найти и отметить на графике средний чек и медианную стоимость заказа.\n",
        "2. Постройте стековую столбчатую гистограмму пассажиропотока с разбивкой по городам (отдельные столбцы) и авиакомпаниям (разбивка внутри столбца).\n",
        "3. Постройте столбчатую гистограмму усредненной по группам продуктов энергетической ценности, с группировкой по `pnns_groups_1`.\n"
      ]
    },
    {
      "cell_type": "code",
      "execution_count": null,
      "id": "ceb2757d",
      "metadata": {
        "id": "ceb2757d"
      },
      "outputs": [],
      "source": [
        "# Place your code here"
      ]
    }
  ],
  "metadata": {
    "kernelspec": {
      "display_name": "Python [conda env:base] *",
      "language": "python",
      "name": "conda-base-py"
    },
    "language_info": {
      "codemirror_mode": {
        "name": "ipython",
        "version": 3
      },
      "file_extension": ".py",
      "mimetype": "text/x-python",
      "name": "python",
      "nbconvert_exporter": "python",
      "pygments_lexer": "ipython3",
      "version": "3.12.7"
    },
    "colab": {
      "provenance": []
    }
  },
  "nbformat": 4,
  "nbformat_minor": 5
}